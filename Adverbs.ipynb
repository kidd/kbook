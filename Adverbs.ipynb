{
 "cells": [
  {
   "cell_type": "markdown",
   "id": "53b19f12",
   "metadata": {},
   "source": [
    "# Adverbs\n",
    "\n",
    "K's adverbs, like their namesakes in linguistics, determine _how_ a verb is applied to its arguments. We can think of them as advanced functional looping constructs. If you're familiar with _filter_, _map_ or _reduce_ from other languages, these would be examples of adverbs in k. The adverbs in k tend to be overloaded on argument types, meaning that some care is required when deciphering code. \n",
    "\n",
    "In `ngn/k`, there is a ref-card for adverbs available as `\\'`. The basic adverbs in most ks are _each_ `'`, _reduce_ `/`, _scan_ `\\`, _each-prior_ `/:`, _each-right_ `/:` and _each-left_ `\\:`, but many more are overloaded on the basic set depending on argument types and valence.\n",
    "\n",
    "As types matter so much for this, we'll adopt the following notation, variations of which most ks use in their ref-cards:\n",
    "\n",
    "* <b>[c]</b>har\n",
    "* <b>[i]</b>nt\n",
    "* <b>[n]</b>umber(int|float)\n",
    "* <b>[s]</b>ymbol\n",
    "* <b>[a]</b>tom\n",
    "* <b>[d]</b>ict\n",
    "* <b>[f]</b>unc(monad)\n",
    "* <b>[F]</b>unc(dyad)\n",
    "* <b>[xyz]</b>any\n",
    "\n",
    "In other words, where we write `f'` we mean `'` applying a monad.\n",
    "\n",
    "```{note}\n",
    "As a stylistic choice, we covered some items that are technically adverbs in the verbs chapter:\n",
    "\n",
    "* encode, decode\n",
    "* split, join\n",
    "\n",
    "Whilst they're overloaded on adverb characters, they don't quite fit the linguistic definition of an adverb - something that affects how a verb is applied. Arguably, _window_ and _bin search_ belong in this group, too.\n",
    "```"
   ]
  },
  {
   "cell_type": "markdown",
   "id": "221e8563",
   "metadata": {},
   "source": [
    "## Each `f'`\n",
    "\n",
    "Arguably the most fundamental of the adverbs is _each_, `f'`. This would be called _map_ in other languages. It returns a vector of the results of applying `f` to every element in the right argument in turn. It follows that `f'x` will have the same length as `x`. For example, let's count the length of each element in a nested list:"
   ]
  },
  {
   "cell_type": "code",
   "execution_count": 3,
   "id": "2e2d66f1",
   "metadata": {},
   "outputs": [
    {
     "name": "stdout",
     "output_type": "stream",
     "text": [
      "5 2 3 1\n"
     ]
    }
   ],
   "source": [
    "#'(1 2 3 4 5;1 2;7 6 5;,6)"
   ]
  },
  {
   "cell_type": "markdown",
   "id": "39f7763b",
   "metadata": {},
   "source": [
    "## Reduce `F/`, `xF/`"
   ]
  },
  {
   "cell_type": "markdown",
   "id": "3ba8bfcd",
   "metadata": {},
   "source": [
    "You're most likely familiar with _reduce_, too. In k, it's sometimes also called _over_, or _fold_. Reduce is also available in APL on the same symbol, but a huge advantage for k's version is that it operates left to right, unlike APL's version which operates right to left: k's reduce is a so-called _foldl_. The left to right application of foldl is, for most people, the intuitive behaviour. _Reduce_ is called \"reduce\" because it reduces the rank of the argument by 1. A list is reduced to a scalar. A matrix is reduced to a vector. A cuboid is reduced to a matrix, etc.\n",
    "\n",
    "One way to think of _reduce_ is that it interjects its dyadic verb into the gaps between elements in a list. For example, the sum-reduction"
   ]
  },
  {
   "cell_type": "code",
   "execution_count": 5,
   "id": "7075f213",
   "metadata": {},
   "outputs": [
    {
     "name": "stdout",
     "output_type": "stream",
     "text": [
      "36\n"
     ]
    }
   ],
   "source": [
    "+/1 2 3 4 5 6 7 8"
   ]
  },
  {
   "cell_type": "markdown",
   "id": "1bf95308",
   "metadata": {},
   "source": [
    "is equivalent to "
   ]
  },
  {
   "cell_type": "code",
   "execution_count": 6,
   "id": "a0fa70a4",
   "metadata": {},
   "outputs": [
    {
     "name": "stdout",
     "output_type": "stream",
     "text": [
      "36\n"
     ]
    }
   ],
   "source": [
    "1+2+3+4+5+6+7+8"
   ]
  },
  {
   "cell_type": "markdown",
   "id": "63d38615",
   "metadata": {},
   "source": [
    "or -- to be precise -- although there is no difference in this case:"
   ]
  },
  {
   "cell_type": "code",
   "execution_count": 7,
   "id": "3726c2e4",
   "metadata": {},
   "outputs": [
    {
     "name": "stdout",
     "output_type": "stream",
     "text": [
      "36\n"
     ]
    }
   ],
   "source": [
    "(((((((1+2)+3)+4)+5)+6)+7)+8)    / foldL"
   ]
  },
  {
   "cell_type": "markdown",
   "id": "a3465061",
   "metadata": {},
   "source": [
    "K's _reduce_ also allows you to seed the accumulator, that is, to start from a different value than the first element:"
   ]
  },
  {
   "cell_type": "code",
   "execution_count": 10,
   "id": "c088bc33",
   "metadata": {},
   "outputs": [
    {
     "name": "stdout",
     "output_type": "stream",
     "text": [
      "45\n",
      "144\n"
     ]
    }
   ],
   "source": [
    "+/!10     / unseeded reduce, accumulator starts set to the first value\n",
    "99+/!10   / seeded reduce"
   ]
  },
  {
   "cell_type": "markdown",
   "id": "e69f3c37",
   "metadata": {},
   "source": [
    "Another way to think of the seeding is that its prepending the seed to the list before applying the unseeded version:"
   ]
  },
  {
   "cell_type": "code",
   "execution_count": 11,
   "id": "0f8b4e59",
   "metadata": {},
   "outputs": [
    {
     "name": "stdout",
     "output_type": "stream",
     "text": [
      "144\n"
     ]
    }
   ],
   "source": [
    "+/99,!10"
   ]
  },
  {
   "cell_type": "markdown",
   "id": "49faec06",
   "metadata": {},
   "source": [
    "## Scan `F\\`, `xF\\`"
   ]
  },
  {
   "cell_type": "markdown",
   "id": "a8f4c87e",
   "metadata": {},
   "source": [
    "_Scan_ is _reduce_'s brattier little sister. If we think back to reduce we just discussed, _scan_ does the same thing, but instead of returning the final value, it returns the sequence of every intermediate application of `F`. In other words, the last value returned by _scan_ would be the value returned by _reduce_ if applied to the same data. If you're familiar with Python's NumPy, it has a sum-scan primitive built in, called `numpy.cumsum`. In k, we'd say"
   ]
  },
  {
   "cell_type": "code",
   "execution_count": 16,
   "id": "018445d2",
   "metadata": {},
   "outputs": [
    {
     "name": "stdout",
     "output_type": "stream",
     "text": [
      "55\n",
      "1 3 6 10 15 21 28 36 45 55\n"
     ]
    }
   ],
   "source": [
    "+/1+!10   / sum-reduce\n",
    "+\\1+!10   / sum-scan: note that the last element is the sum-reduction"
   ]
  },
  {
   "cell_type": "markdown",
   "id": "330c1c12",
   "metadata": {},
   "source": [
    "The elements in the sum-scan `+\\x` is simply `x[0]`, `x[0]+x[1]`, `x[0]+x[1]+x[2]`,...etc. The good news is that in k, a scan is as efficient as a reduce, which isn't the case in APL.\n",
    "\n",
    "As with reductions, we can also seed scans in the same way by providing the initial value:"
   ]
  },
  {
   "cell_type": "code",
   "execution_count": 15,
   "id": "3b366b19",
   "metadata": {},
   "outputs": [
    {
     "name": "stdout",
     "output_type": "stream",
     "text": [
      "99 100 102 105 109 114 120 127 135 144\n"
     ]
    }
   ],
   "source": [
    "99+\\!10   / seeded scan"
   ]
  },
  {
   "cell_type": "markdown",
   "id": "aaf66bd2",
   "metadata": {},
   "source": [
    "## Each-prior `F':`, `xF':`"
   ]
  },
  {
   "cell_type": "markdown",
   "id": "b2acfda0",
   "metadata": {},
   "source": [
    "If you think back to _each_ above, it applies a monad to every element in turn. _Each-prior_ applies a dyad to every neighbour pairing."
   ]
  },
  {
   "cell_type": "code",
   "execution_count": 24,
   "id": "1af7d217",
   "metadata": {},
   "outputs": [
    {
     "name": "stdout",
     "output_type": "stream",
     "text": [
      "1 3 5 7 9 11 13 15 17\n"
     ]
    }
   ],
   "source": [
    "+':1 2 3 4 5 6 7 8 9     / pair-wise sums"
   ]
  },
  {
   "cell_type": "markdown",
   "id": "a5475559",
   "metadata": {},
   "source": [
    "The eagle-eyed reader may have spotted that the first element is 1, and that the number of elements in the result is the same as the original argument. Perhaps you would have guessed that it should have started with 3 and have one fewer elements, like the number of panels required for _n_ fence-posts? You're not alone.\n",
    "\n",
    "The first element is assumed to be the dyad applied to the prototypal element and the first element; a sort of initial \"overhang\". In other words, in the example above, the sequence is"
   ]
  },
  {
   "cell_type": "code",
   "execution_count": 26,
   "id": "afa1f6a6",
   "metadata": {},
   "outputs": [
    {
     "name": "stdout",
     "output_type": "stream",
     "text": [
      "1 3 5 7 9 11 13 15 17\n"
     ]
    }
   ],
   "source": [
    "(0+1;1+2;2+3;3+4;4+5;5+6;6+7;7+8;8+9)"
   ]
  },
  {
   "cell_type": "markdown",
   "id": "4ae3e938",
   "metadata": {},
   "source": [
    "Each-prior is an example of a _windowed reduction_. In other words, in this case, we reduce each pairing to an atom.\n",
    "\n",
    "As with _reduce_ and _scan_, _each-prior_ can also be given a seed value, which would be taken as the left argument of the first application (in place of the prototypal element):"
   ]
  },
  {
   "cell_type": "code",
   "execution_count": 27,
   "id": "16df197a",
   "metadata": {},
   "outputs": [
    {
     "name": "stdout",
     "output_type": "stream",
     "text": [
      "10 3 5 7 9 11 13 15 17\n"
     ]
    }
   ],
   "source": [
    "9+':1 2 3 4 5 6 7 8 9"
   ]
  },
  {
   "cell_type": "markdown",
   "id": "a74f7ed9",
   "metadata": {},
   "source": [
    "## Each-left, each-right `F\\:`, `F/:` "
   ]
  },
  {
   "cell_type": "markdown",
   "id": "e905d5cf",
   "metadata": {},
   "source": [
    "K lacks APL's elegant _rank_ operator, `⍤`, but between them, _each-left_ and _each_right_ can do many of the same things. If we have a vector to the left and a vector to the right, _each-left_ allows us to call a dyad with each of the elements to the left, with the whole of the right vector,"
   ]
  },
  {
   "cell_type": "code",
   "execution_count": 29,
   "id": "46bbb7a2",
   "metadata": {},
   "outputs": [
    {
     "name": "stdout",
     "output_type": "stream",
     "text": [
      "(10 10\n",
      " 11 11\n",
      " 12 12\n",
      " 13 13)\n"
     ]
    }
   ],
   "source": [
    "1 2 3 4+\\:9 9"
   ]
  },
  {
   "cell_type": "markdown",
   "id": "a9ac5310",
   "metadata": {},
   "source": [
    "In other words, _each_ of the elements to the left, plus the _whole_ of the right, like"
   ]
  },
  {
   "cell_type": "code",
   "execution_count": 31,
   "id": "b48d7dfb",
   "metadata": {},
   "outputs": [
    {
     "name": "stdout",
     "output_type": "stream",
     "text": [
      "(10 10\n",
      " 11 11\n",
      " 12 12\n",
      " 13 13)\n"
     ]
    }
   ],
   "source": [
    "(1+9 9;2+9 9;3+9 9;4+9 9)"
   ]
  },
  {
   "cell_type": "markdown",
   "id": "25e84a9c",
   "metadata": {},
   "source": [
    "_Each-right_ does the same thing, but in the opposite direction. With _each-left_ and _each-right_ you can approximate APL's outer product operator, for example, building a \"times table\" to teach multiplication:"
   ]
  },
  {
   "cell_type": "code",
   "execution_count": 38,
   "id": "ca1ed7e0",
   "metadata": {},
   "outputs": [
    {
     "name": "stdout",
     "output_type": "stream",
     "text": [
      "(0 0 0 0 0 0 0 0 0 0 0\n",
      " 0 1 2 3 4 5 6 7 8 9 10\n",
      " 0 2 4 6 8 10 12 14 16 18 20\n",
      " 0 3 6 9 12 15 18 21 24 27 30\n",
      " 0 4 8 12 16 20 24 28 32 36 40\n",
      " 0 5 10 15 20 25 30 35 40 45 50\n",
      " 0 6 12 18 24 30 36 42 48 54 60\n",
      " 0 7 14 21 28 35 42 49 56 63 70\n",
      " 0 8 16 24 32 40 48 56 64 72 80\n",
      " 0 9 18 27 36 45 54 63 72 81 90\n",
      " 0 10 20 30 40 50 60 70 80 90 100)\n"
     ]
    }
   ],
   "source": [
    "(!11)*\\:!11"
   ]
  },
  {
   "cell_type": "markdown",
   "id": "e3eed30d",
   "metadata": {},
   "source": [
    "Sometimes you even see _each-left-each-right_ `/:\\:`. Here's a partial example from [Advent of Code, 2021, day 2](https://adventofcode.com/2021/day/2). Let's say we have a vector that lists a sequence of pairs representing direction and magnitude: [[try it]((https://ngn.bitbucket.io/k#eJxLsdLQUErLLypPLEpRsjbVtNZQSskvz4My4RIWIF5pgZK1MUKFBYoKI01NrlwUw6DKQNo06/StYqxSoq0NYjW1wAzDWK5iK2199Vyu4miDWK3iaMNY3eJoo1gAm+ko9w==))]"
   ]
  },
  {
   "cell_type": "code",
   "execution_count": 51,
   "id": "3586468c",
   "metadata": {
    "tags": [
     "no-link"
    ]
   },
   "outputs": [
    {
     "name": "stdout",
     "output_type": "stream",
     "text": [
      "((\"forward\";5)\n",
      " (\"down\";5)\n",
      " (\"forward\";8)\n",
      " (\"up\";3)\n",
      " (\"down\";8)\n",
      " (\"forward\";2))\n"
     ]
    }
   ],
   "source": [
    ":d:((\"forward\";5);(\"down\";5);(\"forward\";8);(\"up\";3);(\"down\";8);(\"forward\";2))"
   ]
  },
  {
   "cell_type": "markdown",
   "id": "9b87f3a8",
   "metadata": {},
   "source": [
    "We want to convert this to a matrix of magnitudes for each step, with separate rows for the three directions. One way we could do this is:"
   ]
  },
  {
   "cell_type": "code",
   "execution_count": 56,
   "id": "5e090bcf",
   "metadata": {
    "tags": [
     "no-link"
    ]
   },
   "outputs": [
    {
     "name": "stdout",
     "output_type": "stream",
     "text": [
      "(5 0 8 0 0 2\n",
      " 0 5 0 0 8 0\n",
      " 0 0 0 3 0 0)\n"
     ]
    }
   ],
   "source": [
    ":m:((\"forward\";\"down\";\"up\")~/:\\:d[;0])*\\:d[;1]"
   ]
  },
  {
   "cell_type": "markdown",
   "id": "c1906240",
   "metadata": {},
   "source": [
    "The match-each-right-each-left `~/:\\:` matches each element to the left with each element to the right, as if we'd done the following:"
   ]
  },
  {
   "cell_type": "code",
   "execution_count": 65,
   "id": "b5216f12",
   "metadata": {
    "tags": [
     "no-link"
    ]
   },
   "outputs": [
    {
     "name": "stdout",
     "output_type": "stream",
     "text": [
      "1 0 1 0 0 1\n",
      "0 1 0 0 1 0\n",
      "0 0 0 1 0 0\n"
     ]
    }
   ],
   "source": [
    "\"forward\"~/:d[;0]\n",
    "\"down\"~/:d[;0]\n",
    "\"up\"~/:d[;0]"
   ]
  },
  {
   "cell_type": "markdown",
   "id": "3e52bb66",
   "metadata": {},
   "source": [
    "In the matrix `m` above, each column represents a move with a magnitude, where the rows are `forward`, `down` and `up` respectively. The problem now asks us to answer the following:\n",
    "\n",
    "> Calculate the horizontal position and depth you would have after following the planned course. What do you get if you multiply your final horizontal position by your final depth?\n",
    "\n",
    "We can translate that readily to k:"
   ]
  },
  {
   "cell_type": "code",
   "execution_count": 60,
   "id": "999d32c9",
   "metadata": {
    "tags": [
     "no-link"
    ]
   },
   "outputs": [
    {
     "name": "stdout",
     "output_type": "stream",
     "text": [
      "150\n"
     ]
    }
   ],
   "source": [
    "s:+/'m          / sum each row\n",
    "s[0]*s[1]-s[2]  / forward sum * (down sum - up sum)"
   ]
  },
  {
   "cell_type": "markdown",
   "id": "697dbcd5",
   "metadata": {},
   "source": [
    "## For `i f/`, `i f\\`"
   ]
  },
  {
   "cell_type": "markdown",
   "id": "4ceccd40",
   "metadata": {},
   "source": [
    "K has a rich set of functional looping constructs. Perhaps the simplest one is the `for` loop (APL's _power_ `⍣i`), which calls a monad repeatedly on its own result a set number of times. "
   ]
  },
  {
   "cell_type": "code",
   "execution_count": 70,
   "id": "39c0756b",
   "metadata": {},
   "outputs": [
    {
     "name": "stdout",
     "output_type": "stream",
     "text": [
      "32\n"
     ]
    }
   ],
   "source": [
    "5 {x*2}/1   / starting with 1, multiply by 2, 5 times: 2*2*2*2*2*1"
   ]
  },
  {
   "cell_type": "markdown",
   "id": "7dba764b",
   "metadata": {},
   "source": [
    "In naive Python, perhaps you'd written that as\n",
    "\n",
    "```python\n",
    "def power(f, start, count):\n",
    "    result = f(start)\n",
    "    for i in range(count-1):\n",
    "        result = f(result)\n",
    "    return result\n",
    "```"
   ]
  },
  {
   "cell_type": "markdown",
   "id": "829c75d1",
   "metadata": {},
   "source": [
    "Flip the slash to a backslash, and (as you may have suspected already) you'll get the full sequence of intermediate results:"
   ]
  },
  {
   "cell_type": "code",
   "execution_count": 72,
   "id": "a8b7aed6",
   "metadata": {},
   "outputs": [
    {
     "name": "stdout",
     "output_type": "stream",
     "text": [
      "1 2 4 8 16 32\n"
     ]
    }
   ],
   "source": [
    "5 {x*2}\\1"
   ]
  },
  {
   "cell_type": "markdown",
   "id": "ca852b45",
   "metadata": {},
   "source": [
    "## While `f f/`, `f f\\`"
   ]
  },
  {
   "cell_type": "markdown",
   "id": "949936bf",
   "metadata": {},
   "source": [
    "Pass a predicate verb to the left of `f/` and we instead have a _while_ loop. It will repeatedly call the monad on its own result as long as the left argument verb, called on the result, returns non-zero. \n",
    "\n",
    "In Python:\n",
    "\n",
    "```python\n",
    "def whileg(f, s, g):\n",
    "    result = f(s)\n",
    "    while g(result):\n",
    "        result = f(result)\n",
    "    return result\n",
    "```"
   ]
  },
  {
   "cell_type": "code",
   "execution_count": 77,
   "id": "cc15587f",
   "metadata": {},
   "outputs": [
    {
     "name": "stdout",
     "output_type": "stream",
     "text": [
      "16\n"
     ]
    }
   ],
   "source": [
    "{x<10}{x*2}/1  / starting with 1, multiply by 2 while the value < 10"
   ]
  },
  {
   "cell_type": "markdown",
   "id": "bc1592e5",
   "metadata": {},
   "source": [
    "The _while_ adverb will always execute its monad at least once:"
   ]
  },
  {
   "cell_type": "code",
   "execution_count": 79,
   "id": "6799f2be",
   "metadata": {},
   "outputs": [
    {
     "name": "stdout",
     "output_type": "stream",
     "text": [
      "1\n"
     ]
    }
   ],
   "source": [
    "{x<0}{x*2}/1"
   ]
  },
  {
   "cell_type": "markdown",
   "id": "77101380",
   "metadata": {},
   "source": [
    "As with _for_ above, we can get the intermediate values by flipping the slash:"
   ]
  },
  {
   "cell_type": "code",
   "execution_count": 80,
   "id": "02ff30ec",
   "metadata": {},
   "outputs": [
    {
     "name": "stdout",
     "output_type": "stream",
     "text": [
      "1 2 4 8 16\n"
     ]
    }
   ],
   "source": [
    "{x<10}{x*2}\\1 "
   ]
  },
  {
   "cell_type": "markdown",
   "id": "cdd9cb9e",
   "metadata": {},
   "source": [
    "## Converge `f/`, `f\\`"
   ]
  },
  {
   "cell_type": "markdown",
   "id": "f341baef",
   "metadata": {},
   "source": [
    "If we supply no left argument to `f/` we end up with _converge_. This repeatedly applies the monad f to its result until the result is either the starting value, or the previous value. Note that it's not a good idea to call _converge_ with a function that does not converge."
   ]
  },
  {
   "cell_type": "code",
   "execution_count": 84,
   "id": "19b4f994",
   "metadata": {},
   "outputs": [
    {
     "name": "stdout",
     "output_type": "stream",
     "text": [
      "1.618033988749895\n"
     ]
    }
   ],
   "source": [
    "{1+1.0%x}/1       / the golden mean"
   ]
  },
  {
   "cell_type": "markdown",
   "id": "1a3942d7",
   "metadata": {},
   "source": [
    "_Converge_, with a backslash, returns the intermediates, too:"
   ]
  },
  {
   "cell_type": "code",
   "execution_count": 88,
   "id": "78ce378b",
   "metadata": {},
   "outputs": [
    {
     "name": "stdout",
     "output_type": "stream",
     "text": [
      "(1\n",
      " 2.0\n",
      " 1.5\n",
      " 1.6666666666666665\n",
      " 1.6\n",
      " 1.625\n",
      " 1.6153846153846154\n",
      " 1.619047619047619\n",
      " 1.6176470588235294\n",
      " 1.6181818181818182)\n"
     ]
    }
   ],
   "source": [
    "10#{1+1.0%x}\\1    / first 10 values only              "
   ]
  },
  {
   "cell_type": "markdown",
   "id": "9088b53c",
   "metadata": {},
   "source": [
    "## Window `i':x`"
   ]
  },
  {
   "cell_type": "markdown",
   "id": "da6d29c0",
   "metadata": {},
   "source": [
    "_Window_ produces a sliding window of the specified size, returning a vector of shape `(1-i-#x;i)`:"
   ]
  },
  {
   "cell_type": "code",
   "execution_count": 143,
   "id": "3ca792c8",
   "metadata": {},
   "outputs": [
    {
     "name": "stdout",
     "output_type": "stream",
     "text": [
      "(0 1 2\n",
      " 1 2 3\n",
      " 2 3 4\n",
      " 3 4 5\n",
      " 4 5 6\n",
      " 5 6 7\n",
      " 6 7 8\n",
      " 7 8 9)\n"
     ]
    }
   ],
   "source": [
    "3':!10"
   ]
  },
  {
   "cell_type": "markdown",
   "id": "35c928aa",
   "metadata": {},
   "source": [
    "This can be handy for doing windowed reductions. The sliding sum length 3 from 0-19:"
   ]
  },
  {
   "cell_type": "code",
   "execution_count": 144,
   "id": "df2f22e1",
   "metadata": {},
   "outputs": [
    {
     "name": "stdout",
     "output_type": "stream",
     "text": [
      "3 6 9 12 15 18 21 24\n"
     ]
    }
   ],
   "source": [
    "+/'3':!10"
   ]
  },
  {
   "cell_type": "markdown",
   "id": "a239a8ed",
   "metadata": {},
   "source": [
    "What happens if you use a length 0 window? Well, the result still follows the rule that the shape is `(1-i-#X;i)`:"
   ]
  },
  {
   "cell_type": "code",
   "execution_count": 104,
   "id": "2ca24d19",
   "metadata": {},
   "outputs": [
    {
     "name": "stdout",
     "output_type": "stream",
     "text": [
      "(!0\n",
      " !0\n",
      " !0\n",
      " !0\n",
      " !0)\n",
      "(\"\"\n",
      " \"\"\n",
      " \"\"\n",
      " \"\"\n",
      " \"\"\n",
      " \"\")\n",
      "(()\n",
      " ()\n",
      " ()\n",
      " ())\n",
      "(()\n",
      " ()\n",
      " ())\n"
     ]
    }
   ],
   "source": [
    "0':1 2 3 4\n",
    "0':\"hello\"\n",
    "0':(1 2 3;4 5 6;7 8 9)\n",
    "0':2 3 5#5"
   ]
  },
  {
   "cell_type": "markdown",
   "id": "96c34bc4",
   "metadata": {},
   "source": [
    "## Stencil `i f':`"
   ]
  },
  {
   "cell_type": "markdown",
   "id": "d8471889",
   "metadata": {},
   "source": [
    "_Stencil_ is similar to _window_, but it applies the monad to the window. We did a sliding windowed sum above as "
   ]
  },
  {
   "cell_type": "code",
   "execution_count": 145,
   "id": "9bdddb1e",
   "metadata": {},
   "outputs": [
    {
     "name": "stdout",
     "output_type": "stream",
     "text": [
      "3 6 9 12 15 18 21 24\n"
     ]
    }
   ],
   "source": [
    "+/'3':!10   / window, then sum"
   ]
  },
  {
   "cell_type": "markdown",
   "id": "536a56e1",
   "metadata": {},
   "source": [
    "This can be more efficiently expressed as a _stenciled sum_:"
   ]
  },
  {
   "cell_type": "code",
   "execution_count": 146,
   "id": "34ae1286",
   "metadata": {},
   "outputs": [
    {
     "name": "stdout",
     "output_type": "stream",
     "text": [
      "3 6 9 12 15 18 21 24\n"
     ]
    }
   ],
   "source": [
    "3+/':!10    / stencil sum"
   ]
  },
  {
   "cell_type": "markdown",
   "id": "659352e4",
   "metadata": {},
   "source": [
    "The _stencil_ version avoids having to first generate the windows, and then applying the monad to each of them."
   ]
  },
  {
   "cell_type": "markdown",
   "id": "c88d509a",
   "metadata": {},
   "source": [
    "## Bin search `X'`"
   ]
  },
  {
   "cell_type": "markdown",
   "id": "e4d5f076",
   "metadata": {},
   "source": [
    "_Bin search_ is a binning algorithm -- given a set of ranged bins, it picks the bin corresponding to the arguments. This is what an APLer or NumPyer would call _interval index_. Here's how it works:"
   ]
  },
  {
   "cell_type": "code",
   "execution_count": 116,
   "id": "09c1b5c2",
   "metadata": {},
   "outputs": [
    {
     "name": "stdout",
     "output_type": "stream",
     "text": [
      "3 4 -1\n"
     ]
    }
   ],
   "source": [
    "1 3 5 7 9'8 9 0  / bin 8, 9 and 0 over the intervals 1 3 5 7 9"
   ]
  },
  {
   "cell_type": "markdown",
   "id": "78816cc5",
   "metadata": {},
   "source": [
    "Consider the gaps between the elements to the left. The first interval is then [1, 3), the second is [3, 5), the third is [5, 7) etc. An element belongs to the bin where it is greater than or equal to the lower end, and less than the upper end. "
   ]
  },
  {
   "cell_type": "code",
   "execution_count": 117,
   "id": "d0dc245e",
   "metadata": {},
   "outputs": [
    {
     "name": "stdout",
     "output_type": "stream",
     "text": [
      "2\n"
     ]
    }
   ],
   "source": [
    "1 3 5 7 9'5      / elements on on boundary goes in the higher bin"
   ]
  },
  {
   "cell_type": "markdown",
   "id": "3bf8c3d4",
   "metadata": {},
   "source": [
    "Elements smaller than the first bin goes in the -1 bin, which is assumed to cover every number lower than the first bin. Similarly, elements greater than the last bin will end up with a bin number equal to the number of elements (note: not the number of _bins_) to the left:"
   ]
  },
  {
   "cell_type": "code",
   "execution_count": 118,
   "id": "b05c39d3",
   "metadata": {},
   "outputs": [
    {
     "name": "stdout",
     "output_type": "stream",
     "text": [
      "-1 3\n"
     ]
    }
   ],
   "source": [
    "3 5 7 9'0 100"
   ]
  },
  {
   "cell_type": "markdown",
   "id": "5c110162",
   "metadata": {},
   "source": [
    "It works for other types, too:"
   ]
  },
  {
   "cell_type": "code",
   "execution_count": 119,
   "id": "5202107d",
   "metadata": {},
   "outputs": [
    {
     "name": "stdout",
     "output_type": "stream",
     "text": [
      "1 1 2 2 3 -1 4 3 3 2 0\n"
     ]
    }
   ],
   "source": [
    "\"AEIOU\"'\"HELLO WORLD\""
   ]
  },
  {
   "cell_type": "markdown",
   "id": "0876a635",
   "metadata": {},
   "source": [
    "In other words, \"H\" comes on or after \"E\" but not after \"I\", \"E\" is on or after \"E\" etc.\n",
    "\n",
    "Typical use cases for _bin search_ involves various kinds of classification. For example, in the UK, alcoholic beverages are [taxed](https://www.gov.uk/government/publications/uk-trade-tariff-excise-duties-reliefs-drawbacks-and-allowances/uk-trade-tariff-excise-duties-reliefs-drawbacks-and-allowances) based on their _alcohol by volume_ (abv) percentage. Let's consider cider and perry:\n",
    "\n",
    "| Class or description                     | Tax type code | Rate of excise duty/hl |\n",
    "| :---                                     |          ---: |                   ---: |\n",
    "| abv does not exceed 1.2%                 |           431 |                     £0 |\n",
    "| abv exceeding 1.2% but less than 6.9%    |           481 |                 £40.38 |\n",
    "| abv at least 6.9% but not exceeding 7.5% |           487 |                 £50.71 |\n",
    "| abv at least 7.5% but not exceeding 8.5% |           483 |                 £61.04 |"
   ]
  },
  {
   "cell_type": "markdown",
   "id": "bdd80a8e",
   "metadata": {},
   "source": [
    "Given the following ciders with the associated abv, what are their respective tax code and tax rate per hecto-litre? [[try it](https://ngn.bitbucket.io/k#eJwlT81qwzAYu/spRA5rS8HYy++cW3vbGIXtCZzkI/2omwTb7fPPXg8CIQkJjTyRDwb74mvdNusH8jN+E7k5Xmb8rIGKvjg93D3FcPE882Jdks6ew8YL4pXwaccbxSRe3ITv9RFxvpL3TAFvOL1YcRB2eBq0UqGSNTpZQkklxnUiU5UaVZfRJjTC20gm5ZQsO9RKthqNlqoSju8cg9HyHY38SGW5qBYDL0YfX+YuzYjjfvw/1ucmJLvPO5kcxB/6fkgU)]"
   ]
  },
  {
   "cell_type": "code",
   "execution_count": 137,
   "id": "9ee359c8",
   "metadata": {
    "tags": [
     "no-link"
    ]
   },
   "outputs": [],
   "source": [
    "ciders: (\"Kopparberg Sparkling Rose\";\"Bulmers Original\";\"Crispin the Jacket\";\"Old Mout Cherries & Berries\")\n",
    "abv: 7.0 4.5 8.3 0.0"
   ]
  },
  {
   "cell_type": "markdown",
   "id": "4c907ed1",
   "metadata": {},
   "source": [
    "Let's encode the table above into a set of vectors first:"
   ]
  },
  {
   "cell_type": "code",
   "execution_count": 138,
   "id": "2cdfa8ec",
   "metadata": {
    "tags": [
     "no-link"
    ]
   },
   "outputs": [],
   "source": [
    "code:431 481 487 486\n",
    "rate:0 40.38 50.71 61.04\n",
    "limits:1.2 6.9 7.5 8.5"
   ]
  },
  {
   "cell_type": "markdown",
   "id": "d11d87d9",
   "metadata": {},
   "source": [
    "Let's find the bins from the limits, and add one to capture the -1 bin appropriately:"
   ]
  },
  {
   "cell_type": "code",
   "execution_count": 141,
   "id": "d98dc1e1",
   "metadata": {
    "tags": [
     "no-link"
    ]
   },
   "outputs": [
    {
     "name": "stdout",
     "output_type": "stream",
     "text": [
      "2 1 3 0\n"
     ]
    }
   ],
   "source": [
    ":bin:1+limits'abv"
   ]
  },
  {
   "cell_type": "markdown",
   "id": "e6e2020a",
   "metadata": {},
   "source": [
    "Now we can lay out a nice table:"
   ]
  },
  {
   "cell_type": "code",
   "execution_count": 142,
   "id": "1ea40137",
   "metadata": {
    "tags": [
     "no-link"
    ]
   },
   "outputs": [
    {
     "name": "stdout",
     "output_type": "stream",
     "text": [
      "((\"Kopparberg Sparkling Rose\";50.71;487)\n",
      " (\"Bulmers Original\";40.38;481)\n",
      " (\"Crispin the Jacket\";61.04;486)\n",
      " (\"Old Mout Cherries & Berries\";0.0;431))\n"
     ]
    }
   ],
   "source": [
    "+(ciders;rate bin;code bin)"
   ]
  },
  {
   "cell_type": "code",
   "execution_count": null,
   "id": "45861aef",
   "metadata": {},
   "outputs": [],
   "source": []
  }
 ],
 "metadata": {
  "kernelspec": {
   "display_name": "ngn/k",
   "language": "ngnk",
   "name": "ngnk"
  },
  "language_info": {
   "file_extension": ".k",
   "mimetype": "text/ngnk",
   "name": "ngnk"
  }
 },
 "nbformat": 4,
 "nbformat_minor": 5
}
