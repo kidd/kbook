{
 "cells": [
  {
   "cell_type": "code",
   "execution_count": 1,
   "id": "66d09745",
   "metadata": {},
   "outputs": [
    {
     "name": "stdout",
     "output_type": "stream",
     "text": [
      "`bob`adam`sue`rita!23 54 12 82\n"
     ]
    }
   ],
   "source": [
    "keys:`bob`adam`sue`rita\n",
    "vals:23 54 12 82\n",
    "keys!vals                         / construct a dict"
   ]
  },
  {
   "cell_type": "code",
   "execution_count": 2,
   "id": "33a402f1",
   "metadata": {},
   "outputs": [
    {
     "name": "stdout",
     "output_type": "stream",
     "text": [
      "`bob`adam`sue`rita\n"
     ]
    },
    {
     "name": "stdout",
     "output_type": "stream",
     "text": [
      "23 54 12 82\n"
     ]
    }
   ],
   "source": [
    "d:keys!vals\n",
    "!d                                / get keys\n",
    ".d                                / get values"
   ]
  },
  {
   "cell_type": "code",
   "execution_count": 3,
   "id": "14de6171",
   "metadata": {},
   "outputs": [
    {
     "name": "stdout",
     "output_type": "stream",
     "text": [
      "12\n"
     ]
    },
    {
     "name": "stdout",
     "output_type": "stream",
     "text": [
      "82\n"
     ]
    },
    {
     "name": "stdout",
     "output_type": "stream",
     "text": [
      "82 12\n"
     ]
    }
   ],
   "source": [
    "d[`sue]\n",
    "d@`rita\n",
    "d`rita`sue"
   ]
  },
  {
   "cell_type": "code",
   "execution_count": 4,
   "id": "c9566957",
   "metadata": {},
   "outputs": [
    {
     "name": "stdout",
     "output_type": "stream",
     "text": [
      "`bob`adam`sue`rita`eric`frank!23 2 1 82 3 4\n"
     ]
    }
   ],
   "source": [
    "d[`sue`adam`eric`frank]:1 2 3 4   / mixture of updates and inserts\n",
    "d"
   ]
  },
  {
   "cell_type": "code",
   "execution_count": 5,
   "id": "3108d44d",
   "metadata": {},
   "outputs": [
    {
     "name": "stdout",
     "output_type": "stream",
     "text": [
      "`eric`frank!3 4\n"
     ]
    }
   ],
   "source": [
    "-2#`bob`adam`sue`rita`eric`frank!23 2 1 82 3 4  / take from the end"
   ]
  },
  {
   "cell_type": "code",
   "execution_count": 6,
   "id": "62018842",
   "metadata": {},
   "outputs": [
    {
     "name": "stdout",
     "output_type": "stream",
     "text": [
      "`Mon`Tue`Wed`Thu`Fri!(1 4 8 9 4 5;3 6;7 0 0 9;2 8 0 9 9 7 6 7;0 6 2)\n"
     ]
    }
   ],
   "source": [
    "sales:`Mon`Tue`Wed`Thu`Fri!(1 4 8 9 4 5;3 6;7 0 0 9;2 8 0 9 9 7 6 7;0 6 2)\n",
    "sales"
   ]
  },
  {
   "cell_type": "code",
   "execution_count": 7,
   "id": "e890e0e1",
   "metadata": {},
   "outputs": [
    {
     "name": "stdout",
     "output_type": "stream",
     "text": [
      "`Mon`Tue`Wed`Thu`Fri!6 2 4 8 3\n"
     ]
    }
   ],
   "source": [
    "#'sales                            / apply monadic # to each value, retaining keys"
   ]
  },
  {
   "cell_type": "code",
   "execution_count": 8,
   "id": "28d9dc4e",
   "metadata": {},
   "outputs": [
    {
     "name": "stdout",
     "output_type": "stream",
     "text": [
      "0 3 4 7\n"
     ]
    }
   ],
   "source": [
    "&1 0 0 1 1 0 0 1 0"
   ]
  },
  {
   "cell_type": "code",
   "execution_count": 9,
   "id": "c59ef259",
   "metadata": {},
   "outputs": [
    {
     "name": "stdout",
     "output_type": "stream",
     "text": [
      "`sue`frank\n"
     ]
    }
   ],
   "source": [
    "&`rita`bob`sue`adam`frank!0 0 1 0 1         / get all keys which have a value of 1"
   ]
  },
  {
   "cell_type": "code",
   "execution_count": 10,
   "id": "30e46cc5",
   "metadata": {},
   "outputs": [
    {
     "name": "stdout",
     "output_type": "stream",
     "text": [
      "`sue\n"
     ]
    }
   ],
   "source": [
    "(`bob`adam`sue`rita!23 54 12 82)?12         / lookup key by value                                        "
   ]
  },
  {
   "cell_type": "code",
   "execution_count": 11,
   "id": "ea6ac2f0",
   "metadata": {},
   "outputs": [
    {
     "name": "stdout",
     "output_type": "stream",
     "text": [
      "`bob`sue\n"
     ]
    }
   ],
   "source": [
    "&5=`bob`adam`sue`rita!5 1 5 3               / All keys having value 5"
   ]
  },
  {
   "cell_type": "code",
   "execution_count": 12,
   "id": "6314bdf8",
   "metadata": {},
   "outputs": [
    {
     "name": "stdout",
     "output_type": "stream",
     "text": [
      "87\n"
     ]
    }
   ],
   "source": [
    "|/`rita`bob`sue`adam`frank!12 7 87 32 11    / find the max value in a dict"
   ]
  },
  {
   "cell_type": "code",
   "execution_count": 13,
   "id": "1678ea48",
   "metadata": {},
   "outputs": [
    {
     "name": "stdout",
     "output_type": "stream",
     "text": [
      "`b`d`f`h\n"
     ]
    }
   ],
   "source": [
    "&2!`a`b`c`d`e`f`g`h!!8                      / keys of odd values"
   ]
  },
  {
   "cell_type": "code",
   "execution_count": 14,
   "id": "8c9ebabe",
   "metadata": {},
   "outputs": [
    {
     "name": "stdout",
     "output_type": "stream",
     "text": [
      "`b`d`f`h!1 3 5 7\n"
     ]
    }
   ],
   "source": [
    "(2!)#`a`b`c`d`e`f`g`h!!8                    / filter values"
   ]
  },
  {
   "cell_type": "code",
   "execution_count": 15,
   "id": "ec14977f",
   "metadata": {},
   "outputs": [
    {
     "name": "stdout",
     "output_type": "stream",
     "text": [
      "`b`c!1 2\n"
     ]
    }
   ],
   "source": [
    "`b`c#`a`b`c`d`e`f`g`h!!8                    / take the `b and `c pairs"
   ]
  },
  {
   "cell_type": "code",
   "execution_count": 16,
   "id": "23ba37df",
   "metadata": {},
   "outputs": [
    {
     "name": "stdout",
     "output_type": "stream",
     "text": [
      "`b`Q`c!1 0N 2\n"
     ]
    }
   ],
   "source": [
    "`b`Q`c#`a`b`c`d`e`f`g`h!!8                  / take non-existent key `Q"
   ]
  },
  {
   "cell_type": "code",
   "execution_count": 17,
   "id": "e38c4b82",
   "metadata": {},
   "outputs": [
    {
     "name": "stdout",
     "output_type": "stream",
     "text": [
      "`b`c`g`h!1 2 6 7\n"
     ]
    }
   ],
   "source": [
    "{0 1 1 0 0 0 1 1}#`a`b`c`d`e`f`g`h!!8       / pick pairs by bool map"
   ]
  },
  {
   "cell_type": "code",
   "execution_count": 18,
   "id": "cd807761",
   "metadata": {},
   "outputs": [
    {
     "name": "stdout",
     "output_type": "stream",
     "text": [
      "\"a ctsonm\"!(0 3 7 13 16;1 5 9 12 14;,2;4 8 17;,6;,10;,11;,15)\n"
     ]
    }
   ],
   "source": [
    "=\"a cat sat on a mat\""
   ]
  },
  {
   "cell_type": "code",
   "execution_count": 19,
   "id": "4c9d84b6",
   "metadata": {},
   "outputs": [
    {
     "name": "stdout",
     "output_type": "stream",
     "text": [
      "1 2 3 8 9!(0 2 3 9 10;,1;,4;5 11;6 7 8)\n"
     ]
    }
   ],
   "source": [
    "=1 2 1 1 3 8 9 9 9 1 1 8"
   ]
  },
  {
   "cell_type": "code",
   "execution_count": 20,
   "id": "535cd30e",
   "metadata": {},
   "outputs": [
    {
     "name": "stdout",
     "output_type": "stream",
     "text": [
      "1 2 3 8 9!5 1 1 2 3\n"
     ]
    }
   ],
   "source": [
    "#'=1 2 1 1 3 8 9 9 9 1 1 8             / lengths of groups"
   ]
  },
  {
   "cell_type": "code",
   "execution_count": 21,
   "id": "317db211",
   "metadata": {},
   "outputs": [
    {
     "name": "stdout",
     "output_type": "stream",
     "text": [
      "\"abcdefghijklmnopqrstuvwxyz\"!4 0 0 0 3 1 1 2 1 0 0 0 0 0 1 2 0 3 2 2 0 0 0 1 0 0\n"
     ]
    }
   ],
   "source": [
    "abc:`c$\"a\"+!26                         / generate lower-case alphabet\n",
    "0^abc##'=\"hereisaparagraphoftexts\""
   ]
  },
  {
   "cell_type": "code",
   "execution_count": null,
   "id": "d1ba1878",
   "metadata": {},
   "outputs": [],
   "source": []
  }
 ],
 "metadata": {
  "kernelspec": {
   "display_name": "ngn/k",
   "language": "ngnk",
   "name": "ngnk"
  },
  "language_info": {
   "file_extension": ".k",
   "mimetype": "text/ngnk",
   "name": "ngnk"
  }
 },
 "nbformat": 4,
 "nbformat_minor": 5
}