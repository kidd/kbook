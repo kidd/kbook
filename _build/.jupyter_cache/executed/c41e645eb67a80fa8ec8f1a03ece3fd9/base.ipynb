{
 "cells": [],
 "metadata": {
  "kernelspec": {
   "display_name": "ngn/k",
   "language": "ngnk",
   "name": "ngnk"
  },
  "language_info": {
   "file_extension": ".k",
   "mimetype": "text/ngnk",
   "name": "ngnk"
  }
 },
 "nbformat": 4,
 "nbformat_minor": 4
}