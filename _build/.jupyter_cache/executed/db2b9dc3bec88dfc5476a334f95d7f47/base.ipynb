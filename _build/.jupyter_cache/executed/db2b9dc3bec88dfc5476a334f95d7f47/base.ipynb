{
 "cells": [
  {
   "cell_type": "code",
   "execution_count": 1,
   "metadata": {},
   "outputs": [
    {
     "name": "stdout",
     "output_type": "stream",
     "text": [
      "Verbs:    : + - * % ! & | < > = ~ , ^ # _ $ ? @ . 0: 1:\n"
     ]
    },
    {
     "name": "stdout",
     "output_type": "stream",
     "text": [
      "notation: [c]har [i]nt [n]umber(int|float) [s]ymbol [a]tom [d]ict\n"
     ]
    },
    {
     "name": "stdout",
     "output_type": "stream",
     "text": [
      "          [f]unc(monad) [F]unc(dyad) [xyz]any\n"
     ]
    },
    {
     "name": "stdout",
     "output_type": "stream",
     "text": [
      "special:  var:y     set    a:1;a -> 1\n"
     ]
    },
    {
     "name": "stdout",
     "output_type": "stream",
     "text": [
      "          (v;..):y  unpack (b;(c;d)):(2 3;4 5);c -> 4\n"
     ]
    },
    {
     "name": "stdout",
     "output_type": "stream",
     "text": [
      "          :x        return {:x+1;2}[3] -> 4\n"
     ]
    },
    {
     "name": "stdout",
     "output_type": "stream",
     "text": [
      "          $[x;y;..] cond   $[0;`a;\"\\0\";`b;`;`c;();`d;`e] -> `e\n"
     ]
    },
    {
     "name": "stdout",
     "output_type": "stream",
     "text": [
      "          o[..]     recur  {$[x<2;x;+/o'x-1 2]}9 -> 34\n"
     ]
    },
    {
     "name": "stdout",
     "output_type": "stream",
     "text": [
      "          [..]      progn  [0;1;2;3] -> 3\n"
     ]
    },
    {
     "name": "stdout",
     "output_type": "stream",
     "text": [
      "\n"
     ]
    },
    {
     "name": "stdout",
     "output_type": "stream",
     "text": [
      "::  self      ::12 -> 12\n"
     ]
    },
    {
     "name": "stdout",
     "output_type": "stream",
     "text": [
      " :  right     1 :2 -> 2   \"abc\":'\"d\" -> \"ddd\"\n"
     ]
    },
    {
     "name": "stdout",
     "output_type": "stream",
     "text": [
      " +x flip      +(\"ab\";\"cd\") -> (\"ac\";\"bd\")\n"
     ]
    },
    {
     "name": "stdout",
     "output_type": "stream",
     "text": [
      "N+N add       1 2+3 -> 4 5\n"
     ]
    },
    {
     "name": "stdout",
     "output_type": "stream",
     "text": [
      " -N negate    - 1 2 -> -1 -2\n"
     ]
    },
    {
     "name": "stdout",
     "output_type": "stream",
     "text": [
      "N-N subtract  1-2 3 -> -1 -2\n"
     ]
    },
    {
     "name": "stdout",
     "output_type": "stream",
     "text": [
      " *x first     *`a`b -> `a   *(0 1;\"cd\") -> 0 1\n"
     ]
    },
    {
     "name": "stdout",
     "output_type": "stream",
     "text": [
      "N*N multiply  1 2*3 4 -> 3 8\n"
     ]
    },
    {
     "name": "stdout",
     "output_type": "stream",
     "text": [
      " %N sqrt      %25 -> 5.0   %-1 -> 0n\n"
     ]
    },
    {
     "name": "stdout",
     "output_type": "stream",
     "text": [
      "N%N divide    4 3%2 -> 2 1   4 3%2.0 -> 2.0 1.5\n"
     ]
    },
    {
     "name": "stdout",
     "output_type": "stream",
     "text": [
      " !i enum      !3 -> 0 1 2   !-3 -> -3 -2 -1\n"
     ]
    },
    {
     "name": "stdout",
     "output_type": "stream",
     "text": [
      " !I odometer  !2 3 -> (0 0 0 1 1 1;0 1 2 0 1 2)\n"
     ]
    },
    {
     "name": "stdout",
     "output_type": "stream",
     "text": [
      " !d keys      !`a`b!0 1 -> `a`b\n"
     ]
    },
    {
     "name": "stdout",
     "output_type": "stream",
     "text": [
      " !S ns keys   a.b.c:1;a.b.d:2;!`a`b -> ``c`d\n"
     ]
    },
    {
     "name": "stdout",
     "output_type": "stream",
     "text": [
      "x!y dict      `a`b!1 2 -> `a`b!1 2\n"
     ]
    },
    {
     "name": "stdout",
     "output_type": "stream",
     "text": [
      "i!I div       -10!1234 567 -> 123 56\n"
     ]
    },
    {
     "name": "stdout",
     "output_type": "stream",
     "text": [
      "i!I mod       10!1234 567 -> 4 7\n"
     ]
    },
    {
     "name": "stdout",
     "output_type": "stream",
     "text": [
      " &I where     &3 -> 0 0 0   &1 0 1 4 2 -> 0 2 3 3 3 3 4 4\n"
     ]
    },
    {
     "name": "stdout",
     "output_type": "stream",
     "text": [
      " &x deepwhere &(0 1 0;1 0 0;1 1 1) -> (0 1 2 2 2;1 0 0 1 2)\n"
     ]
    },
    {
     "name": "stdout",
     "output_type": "stream",
     "text": [
      "N&N min/and   2&-1 3 -> -1 2   0 0 1 1&0 1 0 1 -> 0 0 0 1\n"
     ]
    },
    {
     "name": "stdout",
     "output_type": "stream",
     "text": [
      " |x reverse   |\"abc\" -> \"cba\"   |12 -> 12\n"
     ]
    },
    {
     "name": "stdout",
     "output_type": "stream",
     "text": [
      "N|N max/or    2|-1 3 -> 2 3   0 0 1 1|0 1 0 1 -> 0 1 1 1\n"
     ]
    },
    {
     "name": "stdout",
     "output_type": "stream",
     "text": [
      " <X ascend    <\"abacus\" -> 0 2 1 3 5 4\n"
     ]
    },
    {
     "name": "stdout",
     "output_type": "stream",
     "text": [
      " >X descend   >\"abacus\" -> 4 5 3 1 0 2\n"
     ]
    },
    {
     "name": "stdout",
     "output_type": "stream",
     "text": [
      " <s open      fd:<`\"/path/to/file.txt\"\n"
     ]
    },
    {
     "name": "stdout",
     "output_type": "stream",
     "text": [
      " >i close     >fd\n"
     ]
    },
    {
     "name": "stdout",
     "output_type": "stream",
     "text": [
      "N<N less      0 2<1 -> 1 0\n"
     ]
    },
    {
     "name": "stdout",
     "output_type": "stream",
     "text": [
      "N>N more      0 1>0 2 -> 0 0\n"
     ]
    },
    {
     "name": "stdout",
     "output_type": "stream",
     "text": [
      " =X group     =\"abracadabra\" -> \"abrcd\"!(0 3 5 7 10;1 8;2 9;,4;,6)\n"
     ]
    },
    {
     "name": "stdout",
     "output_type": "stream",
     "text": [
      " =i unitmat   =3 -> (1 0 0;0 1 0;0 0 1)\n"
     ]
    },
    {
     "name": "stdout",
     "output_type": "stream",
     "text": [
      "N=N equal     0 1 2=0 1 3 -> 1 1 0\n"
     ]
    },
    {
     "name": "stdout",
     "output_type": "stream",
     "text": [
      " ~x not       ~(0 2;``a;\"a \\0\";::;{}) -> (1 0;1 0;0 0 1;1;0)\n"
     ]
    },
    {
     "name": "stdout",
     "output_type": "stream",
     "text": [
      "x~y match     2 3~2 3 -> 1   \"4\"~4 -> 0   0~0.0 -> 0\n"
     ]
    },
    {
     "name": "stdout",
     "output_type": "stream",
     "text": [
      " ,x enlist    ,0 -> ,0   ,0 1 -> ,0 1   ,`a!1 -> +(,`a)!,,1\n"
     ]
    },
    {
     "name": "stdout",
     "output_type": "stream",
     "text": [
      "x,y concat    0,1 2 -> 0 1 2  \"a\",1 -> (\"a\";1)\n"
     ]
    },
    {
     "name": "stdout",
     "output_type": "stream",
     "text": [
      " ^x null      ^(\" a\";0 1 0N;``a;0.0 0n) -> (1 0;0 0 1;1 0;0 1)\n"
     ]
    },
    {
     "name": "stdout",
     "output_type": "stream",
     "text": [
      "a^y fill      1^0 0N 2 3 0N -> 0 1 2 3 1   \"b\"^\" \" -> \"b\"\n"
     ]
    },
    {
     "name": "stdout",
     "output_type": "stream",
     "text": [
      "X^y without   \"abracadabra\"^\"bc\" -> \"araadara\"\n"
     ]
    },
    {
     "name": "stdout",
     "output_type": "stream",
     "text": [
      " #x length    #\"abc\" -> 3   #4 -> 1   #`a`b`c!0 1 0 -> 3\n"
     ]
    },
    {
     "name": "stdout",
     "output_type": "stream",
     "text": [
      "i#y reshape   3#2 -> 2 2 2\n"
     ]
    },
    {
     "name": "stdout",
     "output_type": "stream",
     "text": [
      "I#y reshape   2 3#` -> (```;```)\n"
     ]
    },
    {
     "name": "stdout",
     "output_type": "stream",
     "text": [
      "f#y replicate (3>#:')#(0;2 1 3;5 4) -> (0;5 4)   {2}#\"ab\" -> \"aabb\"\n"
     ]
    },
    {
     "name": "stdout",
     "output_type": "stream",
     "text": [
      "x#d take      `c`d`f#`a`b`c`d!1 2 3 4 -> `c`d`f!3 4 0N\n"
     ]
    },
    {
     "name": "stdout",
     "output_type": "stream",
     "text": [
      " _n floor     _12.34 -12.34 -> 12 -13\n"
     ]
    },
    {
     "name": "stdout",
     "output_type": "stream",
     "text": [
      " _c lowercase _\"Ab\" -> \"ab\"\n"
     ]
    },
    {
     "name": "stdout",
     "output_type": "stream",
     "text": [
      "i_Y drop      2_\"abcde\" -> \"cde\"   `b_`a`b`c!0 1 2 -> `a`c!0 2\n"
     ]
    },
    {
     "name": "stdout",
     "output_type": "stream",
     "text": [
      "I_Y cut       2 4 4_\"abcde\" -> (\"cd\";\"\";,\"e\")\n"
     ]
    },
    {
     "name": "stdout",
     "output_type": "stream",
     "text": [
      "f_Y weed out  (3>#:')_(0;2 1 3;5 4) -> ,2 1 3\n"
     ]
    },
    {
     "name": "stdout",
     "output_type": "stream",
     "text": [
      "X_i delete    \"abcde\"_2 -> \"abde\"\n"
     ]
    },
    {
     "name": "stdout",
     "output_type": "stream",
     "text": [
      " $x string    $(12;\"ab\";`cd;+) -> (\"12\";(,\"a\";,\"b\");\"cd\";,\"+\")\n"
     ]
    },
    {
     "name": "stdout",
     "output_type": "stream",
     "text": [
      "i$C pad       5$\"abc\" -> \"abc  \"   -3$\"a\" -> \"  a\"\n"
     ]
    },
    {
     "name": "stdout",
     "output_type": "stream",
     "text": [
      "s$y cast      `c$97 -> \"a\"   `i$-1.2 -> -1   `$\"a\" -> `a\n"
     ]
    },
    {
     "name": "stdout",
     "output_type": "stream",
     "text": [
      "s$y int       `I$\"-12\" -> -12\n"
     ]
    },
    {
     "name": "stdout",
     "output_type": "stream",
     "text": [
      " ?x uniq      ?\"abacus\" -> \"abcus\"\n"
     ]
    },
    {
     "name": "stdout",
     "output_type": "stream",
     "text": [
      "X?y find      \"abcde\"?\"bfe\" -> 1 0N 4\n"
     ]
    },
    {
     "name": "stdout",
     "output_type": "stream",
     "text": [
      "i?x roll      3?1000 -> 11 398 293   1?0 -> ,-8164324247243690787\n"
     ]
    },
    {
     "name": "stdout",
     "output_type": "stream",
     "text": [
      "i?x deal      -3?1000 -> 11 398 293 /guaranteed distinct\n"
     ]
    },
    {
     "name": "stdout",
     "output_type": "stream",
     "text": [
      " @x type      @1 -> `b   @\"ab\" -> `C   @() -> `A   @(@) -> `v\n"
     ]
    },
    {
     "name": "stdout",
     "output_type": "stream",
     "text": [
      "x@y apply(1)  {x+1}@2 -> 3   \"abc\"@1 -> \"b\"   (`a`b!0 1)@`b -> 1\n"
     ]
    },
    {
     "name": "stdout",
     "output_type": "stream",
     "text": [
      " .S get       a:1;.`a -> 1   b.c:2;.`b`c -> 2\n"
     ]
    },
    {
     "name": "stdout",
     "output_type": "stream",
     "text": [
      " .C eval      .\"1+2\" -> 3\n"
     ]
    },
    {
     "name": "stdout",
     "output_type": "stream",
     "text": [
      " .d values    .`a`b!0 1 -> 0 1\n"
     ]
    },
    {
     "name": "stdout",
     "output_type": "stream",
     "text": [
      "x.y apply(n)  {x*y+1}. 2 3 -> 8   (`a`b`c;`d`e`f). 1 0 -> `d\n"
     ]
    },
    {
     "name": "stdout",
     "output_type": "stream",
     "text": [
      "\n"
     ]
    },
    {
     "name": "stdout",
     "output_type": "stream",
     "text": [
      "@[x;y;f]   amend  @[\"ABC\";1;_:] -> \"AbC\"   @[2 3;1;{-x}] -> 2 -3\n"
     ]
    },
    {
     "name": "stdout",
     "output_type": "stream",
     "text": [
      "@[x;y;F;z] amend  @[\"abc\";1;:;\"x\"] -> \"axc\"   @[2 3;0;+;4] -> 6 3\n"
     ]
    },
    {
     "name": "stdout",
     "output_type": "stream",
     "text": [
      ".[x;y;f]   drill  .[(\"AB\";\"CD\");1 0;_:] -> (\"AB\";\"cD\")\n"
     ]
    },
    {
     "name": "stdout",
     "output_type": "stream",
     "text": [
      ".[x;y;F;z] drill  .[(\"ab\";\"cd\");1 0;:;\"x\"] -> (\"ab\";\"xd\")\n"
     ]
    },
    {
     "name": "stdout",
     "output_type": "stream",
     "text": [
      ".[f;y;f]   try    .[+;1 2;\"E:\",] -> 3   .[+;1,`2;\"E:\",] -> \"E:typ\"\n"
     ]
    },
    {
     "name": "stdout",
     "output_type": "stream",
     "text": [
      "?[x;y;z]   splice ?[\"abcd\";1 3;\"xyz\"] -> \"axyzd\"\n"
     ]
    }
   ],
   "source": [
    "\\+"
   ]
  },
  {
   "cell_type": "code",
   "execution_count": 2,
   "metadata": {},
   "outputs": [
    {
     "name": "stdout",
     "output_type": "stream",
     "text": [
      "1.4142135623730951\n"
     ]
    },
    {
     "name": "stdout",
     "output_type": "stream",
     "text": [
      "3.3333333333333335\n"
     ]
    }
   ],
   "source": [
    "%2    / sqrt 2\n",
    "10%3  / 10 divided by 3"
   ]
  },
  {
   "cell_type": "code",
   "execution_count": 3,
   "metadata": {},
   "outputs": [
    {
     "name": "stdout",
     "output_type": "stream",
     "text": [
      "1\n"
     ]
    }
   ],
   "source": [
    "1+5*2-2"
   ]
  },
  {
   "cell_type": "code",
   "execution_count": 4,
   "metadata": {},
   "outputs": [
    {
     "name": "stdout",
     "output_type": "stream",
     "text": [
      "9\n"
     ]
    }
   ],
   "source": [
    "1+(5*2)-2"
   ]
  },
  {
   "cell_type": "code",
   "execution_count": 5,
   "metadata": {},
   "outputs": [
    {
     "name": "stdout",
     "output_type": "stream",
     "text": [
      "-1 -2 -1 6 5\n"
     ]
    }
   ],
   "source": [
    "4 3 2 5 6 + 3 2 1 2 1 - 8 7 4 1 2"
   ]
  },
  {
   "cell_type": "code",
   "execution_count": null,
   "metadata": {},
   "outputs": [],
   "source": []
  }
 ],
 "metadata": {
  "kernelspec": {
   "display_name": "ngn/k",
   "language": "ngnk",
   "name": "ngnk"
  },
  "language_info": {
   "file_extension": ".k",
   "mimetype": "text/ngnk",
   "name": "ngnk"
  }
 },
 "nbformat": 4,
 "nbformat_minor": 4
}