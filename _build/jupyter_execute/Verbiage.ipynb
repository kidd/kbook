{
 "cells": [
  {
   "cell_type": "markdown",
   "metadata": {},
   "source": [
    "# Verbiage\n",
    "\n",
    "K (depending on generation) has 15-25 built-in verbs. A complication is that they typically have multiple meanings, depending on both context and arity. Indeed, a significant part of the effort required to learn to read k is to be able to recognise the overloaded meanings of verbs and adverbs depending on context. In my opinion, this is one aspect where APL, perhaps contrary to expectation, is easier to grasp than k -- its symbols are less overloaded and easier to segregate visually. But that's my opinion; you might well feel differently.\n",
    "\n",
    "What _is_ a verb? In other languages, much of the functionality that hides behind k's verbs (and adverbs) tend to be functions residing in various libraries. Indeed, in Python you'd probably need at least half a dozen `import` statements to match k's built-in verbs and adverbs. It follows that instead of thinking of k as a language with no libraries, you can think of it as a tiny language providing an extremely compact way of accessing a very complete standard library.\n",
    "\n",
    "For the author of something like this, the built-ins present a bit of a conundrum: should we religiously present each one, in all the many forms, or trust that the reader is capable of looking them up themselves by consulting the `\\+` ref-card? This is where the ref-card actually excels. Sure, it's a bit dry, but so would any presentation be. For example, [Q for Mortals](https://code.kx.com/q4m3/A_Built-in_Functions/) has an appendix with a table of the q built-ins with brief examples. It's an appendix for a reason.\n",
    "\n",
    "So let's not go there, and instead focus on the general concepts. We'll explain any new verbs we throw into the mix as we go. As a reminder, the ref-card for ngn/k's verbs (we saw it a few pages back) starts off like so:\n",
    "\n",
    "```text\n",
    "Verbs:    : + - * % ! & | < > = ~ , ^ # _ $ ? @ . 0: 1:\n",
    "notation: [c]har [i]nt [n]umber(int|float) [s]ymbol [a]tom [d]ict\n",
    "          [f]unc(monad) [F]unc(dyad) [xyz]any\n",
    "special:  var:y     set    a:1;a -> 1\n",
    "          (v;..):y  unpack (b;(c;d)):(2 3;4 5);c -> 4\n",
    "          :x        return {:x+1;2}[3] -> 4\n",
    "          $[x;y;..] cond   $[0;`a;\"\\0\";`b;`;`c;();`d;`e] -> `e\n",
    "          o[..]     recur  {$[x<2;x;+/o'x-1 2]}9 -> 34\n",
    "          [..]      progn  [0;1;2;3] -> 3\n",
    "\n",
    "::  self      ::12 -> 12\n",
    " :  right     1 :2 -> 2   \"abc\":'\"d\" -> \"ddd\"\n",
    " +x flip      +(\"ab\";\"cd\") -> (\"ac\";\"bd\")\n",
    "N+N add       1 2+3 -> 4 5\n",
    " -N negate    - 1 2 -> -1 -2\n",
    "N-N subtract  1-2 3 -> -1 -2\n",
    " *x first     *`a`b -> `a   *(0 1;\"cd\") -> 0 1\n",
    "N*N multiply  1 2*3 4 -> 3 8\n",
    " %N sqrt      %25 -> 5.0   %-1 -> 0n\n",
    "N%N divide    4 3%2 -> 2 1   4 3%2.0 -> 2.0 1.5\n",
    " !i enum      !3 -> 0 1 2   !-3 -> -3 -2 -1\n",
    " !I odometer  !2 3 -> (0 0 0 1 1 1;0 1 2 0 1 2)\n",
    "```"
   ]
  },
  {
   "cell_type": "markdown",
   "metadata": {},
   "source": [
    "For example, we can see that `%` is either square root or division, depending on arity:"
   ]
  },
  {
   "cell_type": "code",
   "execution_count": 1,
   "metadata": {},
   "outputs": [
    {
     "name": "stdout",
     "output_type": "stream",
     "text": [
      "1.4142135623730951\n"
     ]
    },
    {
     "name": "stdout",
     "output_type": "stream",
     "text": [
      "3.3333333333333335\n"
     ]
    }
   ],
   "source": [
    "%2    / sqrt 2\n",
    "10%3  / 10 divided by 3"
   ]
  },
  {
   "cell_type": "markdown",
   "metadata": {},
   "source": [
    "## Precedence and binding\n",
    "\n",
    "K has a strict right-to-left order of evaluation, like all Iversonian languages. If you're not used to this, it's sure to bite you sooner or later, but it's really intended as a simplification, and as such it soon comes naturally. However, behold:"
   ]
  },
  {
   "cell_type": "code",
   "execution_count": 2,
   "metadata": {},
   "outputs": [
    {
     "name": "stdout",
     "output_type": "stream",
     "text": [
      "1\n"
     ]
    }
   ],
   "source": [
    "1+5*2-2"
   ]
  },
  {
   "cell_type": "markdown",
   "metadata": {},
   "source": [
    "Had you tapped that out on a calculator you would have gotten a different result:"
   ]
  },
  {
   "cell_type": "code",
   "execution_count": 3,
   "metadata": {},
   "outputs": [
    {
     "name": "stdout",
     "output_type": "stream",
     "text": [
      "9\n"
     ]
    }
   ],
   "source": [
    "1+(5*2)-2"
   ]
  },
  {
   "cell_type": "markdown",
   "metadata": {},
   "source": [
    "With k's strict right-to-left evaluation order and no differences in precedence, you need to place explicit parentheses if you want the multiplication to \"come first\". It follows that you really need to consider a snippet of k-code from right to left. \n",
    "\n",
    "As k's verbs usually comes in both monadic and dyadic forms, we must also consider the scope of argument binding. To the right it's usually obvious: a verb's right argument is the result of everything to its right. To the left, the binding extends as far as possible, whilst staying true to the right-to-left rule. For example, in the expression"
   ]
  },
  {
   "cell_type": "code",
   "execution_count": 4,
   "metadata": {},
   "outputs": [
    {
     "name": "stdout",
     "output_type": "stream",
     "text": [
      "-1 -2 -1 6 5\n"
     ]
    }
   ],
   "source": [
    "4 3 2 5 6 + 3 2 1 2 1 - 8 7 4 1 2"
   ]
  },
  {
   "cell_type": "markdown",
   "metadata": {},
   "source": [
    "the right argument to `+` is the result of evaluating everything to its right, in this case `3 2 1 2 1 - 8 7 4 1 2`. The left argument to `-` is everything we can grab without invalidating the right-to-left rule, so in this case the vector `3 2 1 2 1`."
   ]
  },
  {
   "cell_type": "markdown",
   "metadata": {},
   "source": [
    "The verbs `+` and `-` do have monadic versions, too. K will try to interpret verbs as dyadic first, and only where this can't be done will it drop back to the monadic interpretation. This can occasionally be a source of unintended consequences, especially when we come to k's comparatively limited form of tacit programming. There, you sometimes need to help k's parser along, for example by forcing a particular verb to be interpreted in its monadic form. We'll show some examples of what we mean a bit later on."
   ]
  },
  {
   "cell_type": "code",
   "execution_count": null,
   "metadata": {},
   "outputs": [],
   "source": []
  }
 ],
 "metadata": {
  "kernelspec": {
   "display_name": "ngn/k",
   "language": "ngnk",
   "name": "ngnk"
  },
  "language_info": {
   "file_extension": ".k",
   "mimetype": "text/ngnk",
   "name": "ngnk"
  }
 },
 "nbformat": 4,
 "nbformat_minor": 4
}